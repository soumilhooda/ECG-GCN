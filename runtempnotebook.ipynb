{
 "cells": [
  {
   "cell_type": "code",
   "execution_count": 1,
   "metadata": {},
   "outputs": [
    {
     "name": "stderr",
     "output_type": "stream",
     "text": [
      "2024-02-01 19:41:35.594892: I tensorflow/core/platform/cpu_feature_guard.cc:193] This TensorFlow binary is optimized with oneAPI Deep Neural Network Library (oneDNN) to use the following CPU instructions in performance-critical operations:  AVX2 AVX512F AVX512_VNNI FMA\n",
      "To enable them in other operations, rebuild TensorFlow with the appropriate compiler flags.\n"
     ]
    },
    {
     "name": "stdout",
     "output_type": "stream",
     "text": [
      "WARNING:tensorflow:From /Applications/anaconda3/envs/ML_env/lib/python3.7/site-packages/tensorflow/python/compat/v2_compat.py:107: disable_resource_variables (from tensorflow.python.ops.variable_scope) is deprecated and will be removed in a future version.\n",
      "Instructions for updating:\n",
      "non-resource variables are not supported in the long term\n"
     ]
    },
    {
     "name": "stderr",
     "output_type": "stream",
     "text": [
      "2024-02-01 19:41:41.920760: I tensorflow/core/platform/cpu_feature_guard.cc:193] This TensorFlow binary is optimized with oneAPI Deep Neural Network Library (oneDNN) to use the following CPU instructions in performance-critical operations:  AVX2 AVX512F AVX512_VNNI FMA\n",
      "To enable them in other operations, rebuild TensorFlow with the appropriate compiler flags.\n"
     ]
    }
   ],
   "source": [
    "from scripts import models, graph, coarsening,GCN_Model,DenseGCN_Model\n",
    "\n",
    "import numpy as np\n",
    "import pandas as pd\n",
    "from scipy import sparse\n",
    "from tensorflow.python.framework import ops\n",
    "import tensorflow as tf\n",
    "# Clear all the stack and use GPU resources as much as possible\n",
    "ops.reset_default_graph()\n",
    "config= tf.compat.v1.ConfigProto()\n",
    "config.gpu_options.allow_growth = True\n",
    "sess=tf.compat.v1.Session(config=config)"
   ]
  },
  {
   "cell_type": "code",
   "execution_count": 2,
   "metadata": {},
   "outputs": [
    {
     "name": "stdout",
     "output_type": "stream",
     "text": [
      "==============> Data read!\n"
     ]
    }
   ],
   "source": [
    "train_data= np.load('training_set.npy').astype('float32')\n",
    "train_labels= np.load('training_label.npy').astype('float32')\n",
    "test_data= np.load('test_set.npy').astype('float32')\n",
    "test_labels= np.load('test_label.npy').astype('float32')\n",
    "print('==============> Data read!')\n",
    "test_labels=test_labels.reshape(4051000,)\n",
    "train_labels=train_labels.reshape(16204000,)"
   ]
  },
  {
   "cell_type": "code",
   "execution_count": 3,
   "metadata": {},
   "outputs": [
    {
     "name": "stdout",
     "output_type": "stream",
     "text": [
      "==============> Adjancy matrix read!\n",
      "Layer 0: M_0 = |V| = 384 nodes (372 added),|E| = 66 edges\n",
      "Layer 1: M_1 = |V| = 192 nodes (180 added),|E| = 66 edges\n",
      "Layer 2: M_2 = |V| = 96 nodes (84 added),|E| = 66 edges\n",
      "Layer 3: M_3 = |V| = 48 nodes (36 added),|E| = 66 edges\n",
      "Layer 4: M_4 = |V| = 24 nodes (12 added),|E| = 66 edges\n",
      "Layer 5: M_5 = |V| = 12 nodes (0 added),|E| = 66 edges\n"
     ]
    }
   ],
   "source": [
    "Adjacency_Matrix = np.load('Adjacency_Matrix.npy').astype('float32')\n",
    "Adjacency_Matrix = sparse.csr_matrix(Adjacency_Matrix)\n",
    "print('==============> Adjancy matrix read!')\n",
    "graphs, perm = coarsening.coarsen(Adjacency_Matrix, levels=5, self_connections=False)\n",
    "X_train = coarsening.perm_data(train_data, perm)\n",
    "X_test  = coarsening.perm_data(test_data,  perm)\n",
    "print('==============>coarsening done!')"
   ]
  },
  {
   "cell_type": "code",
   "execution_count": null,
   "metadata": {},
   "outputs": [],
   "source": [
    "L = [graph.laplacian(Adjacency_Matrix, normalized=True) for Adjacency_Matrix in graphs]\n",
    "print('==============>laplacian obtained!')\n",
    "# graph.plot_spectrum(L)"
   ]
  },
  {
   "cell_type": "code",
   "execution_count": null,
   "metadata": {},
   "outputs": [],
   "source": [
    "params = dict()\n",
    "params['dir_name']       = 'folder1'\n",
    "params['num_epochs']     = 100\n",
    "params['batch_size']     = 1024\n",
    "params['eval_frequency'] = 100\n",
    "# Building blocks.\n",
    "params['filter'] = 'chebyshev5'\n",
    "params['brelu']  = 'b2relu'\n",
    "params['pool']   = 'mpool1'\n",
    "# Architecture.\n",
    "params['F'] = [16, 32, 64, 128, 256, 512]  # Number of graph convolutional filters.\n",
    "params['K'] = [2, 2, 2, 2, 2, 2]           # Polynomial orders.\n",
    "params['p'] = [2, 2, 2, 2, 2, 2]           # Pooling sizes.\n",
    "params['M'] = [2]                          # Output dimensionality of fully connected layers.\n",
    "# Optimization.\n",
    "params['regularization'] = 0.000001  # L2 regularization\n",
    "params['dropout']        = 0.50      # Dropout rate\n",
    "params['learning_rate']  = 0.000001  # Learning rate\n",
    "params['decay_rate']     = 1         # Learning rate Decay == 1 means no Decay\n",
    "params['momentum']       = 0         # momentum == 0 means Use Adam Optimizer\n",
    "params['decay_steps']    = np.shape(train_data)[0] / params['batch_size']\n",
    "print('==============>parameters  selected!')"
   ]
  },
  {
   "cell_type": "code",
   "execution_count": null,
   "metadata": {},
   "outputs": [],
   "source": [
    "model = models.cgcnn(L, **params)\n",
    "#model = GCN_Model.cgcnn(L, **params)\n",
    "#model=DenseGCN_Model.cgcnn(L, **params)\n",
    "print('==============>model  established!')\n",
    "accuracy, loss, t_step = model.fit(X_train, train_labels, X_test, test_labels)\n",
    "print('==============>model  fitted!')"
   ]
  }
 ],
 "metadata": {
  "kernelspec": {
   "display_name": "ML_env",
   "language": "python",
   "name": "python3"
  },
  "language_info": {
   "codemirror_mode": {
    "name": "ipython",
    "version": 3
   },
   "file_extension": ".py",
   "mimetype": "text/x-python",
   "name": "python",
   "nbconvert_exporter": "python",
   "pygments_lexer": "ipython3",
   "version": "3.7.12"
  }
 },
 "nbformat": 4,
 "nbformat_minor": 2
}
